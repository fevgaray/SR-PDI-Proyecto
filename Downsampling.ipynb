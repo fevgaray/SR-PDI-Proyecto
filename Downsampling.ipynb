{
 "cells": [
  {
   "cell_type": "code",
   "execution_count": 7,
   "metadata": {},
   "outputs": [],
   "source": [
    "from PIL import Image, ImageFilter\n",
    "import os\n",
    "import numpy as np\n",
    "import random"
   ]
  },
  {
   "cell_type": "code",
   "execution_count": 8,
   "metadata": {},
   "outputs": [],
   "source": [
    "# Función para aplicar muestreo aleatorio\n",
    "def apply_random_sampling(image, factor):\n",
    "    new_width = image.width // factor\n",
    "    new_height = image.height // factor\n",
    "    resized_image = image.resize((new_width, new_height))\n",
    "    return resized_image\n",
    "\n",
    "# Función para aplicar reducción de escala\n",
    "def apply_scale_reduction(image, factor):\n",
    "    return image.resize((image.width // factor, image.height // factor))\n",
    "\n",
    "# Función para aplicar compresión JPEG\n",
    "def apply_jpeg_compression(image, quality=10, subsampling=0, downsample_factor=1):\n",
    "    if downsample_factor == 1:\n",
    "        output_image = image.copy()\n",
    "    else:\n",
    "        width, height = image.size\n",
    "        new_width = width // downsample_factor\n",
    "        new_height = height // downsample_factor\n",
    "        resized_image = image.resize((new_width, new_height))\n",
    "        output_image = resized_image.copy()\n",
    "\n",
    "    output_image.save(\"temp.jpg\", \"JPEG\", quality=quality, subsampling=subsampling)\n",
    "    return Image.open(\"temp.jpg\")\n",
    "\n",
    "# Función para aplicar borrado de píxeles\n",
    "def apply_pixel_blur(image, factor):\n",
    "    blur_filter=ImageFilter.BoxBlur(1)\n",
    "    new_width = image.width // factor\n",
    "    new_height = image.height // factor\n",
    "    resized_image = image.resize((new_width, new_height))\n",
    "    blurred_image = resized_image.filter(blur_filter)\n",
    "    return blurred_image\n",
    "# Función para aplicar desenfoque gaussiano\n",
    "def apply_gaussian_blur(image, factor, blur_radius=1):\n",
    "    new_width = image.width // factor\n",
    "    new_height = image.height // factor\n",
    "    resized_image = image.resize((new_width, new_height))\n",
    "    blurred_image = resized_image.filter(ImageFilter.GaussianBlur(blur_radius))\n",
    "    return blurred_image\n",
    "\n",
    "# Función para aplicar reducción de ruido\n",
    "def apply_noise_reduction(image, factor):\n",
    "    # Cambiar la resolución de la imagen en función del factor\n",
    "    new_width = image.width // factor\n",
    "    new_height = image.height // factor\n",
    "    resized_image = image.resize((new_width, new_height))\n",
    "    \n",
    "    # Reducción de ruido en la imagen redimensionada\n",
    "    np_image = np.array(resized_image)\n",
    "    noisy_image = np_image + 0.1 * np.random.normal(size=np_image.shape)  # Ajusta el factor de ruido según sea necesario\n",
    "    noisy_image = np.clip(noisy_image, 0, 255).astype(np.uint8)\n",
    "    \n",
    "    return Image.fromarray(noisy_image)\n"
   ]
  },
  {
   "cell_type": "code",
   "execution_count": 9,
   "metadata": {},
   "outputs": [],
   "source": [
    "# Lista de métodos de downsampling\n",
    "downsampling_methods = [\"muestreo_aleatorio\", \"redireccion_escala\", \"compresion_jpeg\", \"borrado_pixeles\", \"desenfoque_gaussiano\", \"reduccion_ruido\"]"
   ]
  },
  {
   "cell_type": "code",
   "execution_count": 10,
   "metadata": {},
   "outputs": [],
   "source": [
    "def aplicar_metodos(input_folder):\n",
    "    # Itera sobre cada archivo en la carpeta de entrada\n",
    "    for i in [2,3,4] :\n",
    "        output_folder = 'ImagesLR/'+str(i)+\"x\"    \n",
    "        # Crea el directorio de salida si no existe\n",
    "        if not os.path.exists(output_folder):\n",
    "            os.makedirs(output_folder)\n",
    "        for filename in os.listdir(input_folder):\n",
    "            if filename.endswith(\".jpg\") or filename.endswith(\".png\"):\n",
    "                input_image = Image.open(os.path.join(input_folder, filename))\n",
    "                numero_aleatorio = random.randint(1, 6)\n",
    "                output_image = None\n",
    "                if numero_aleatorio == 1:\n",
    "                    output_image = apply_random_sampling(input_image, i)\n",
    "                elif  numero_aleatorio == 2:\n",
    "                    output_image = apply_scale_reduction(input_image, i)\n",
    "                elif numero_aleatorio == 3:\n",
    "                    output_image = apply_jpeg_compression(input_image, 10, 0, i)\n",
    "                elif  numero_aleatorio == 4:\n",
    "                    output_image = apply_pixel_blur(input_image, i)\n",
    "                elif numero_aleatorio == 5:\n",
    "                    output_image = apply_gaussian_blur(input_image, i)\n",
    "                elif  numero_aleatorio == 6:\n",
    "                    output_image = apply_noise_reduction(input_image, i)\n",
    "\n",
    "                if output_image:\n",
    "                    # Guarda la imagen de salida en la carpeta de salida\n",
    "                    output_filename = f\"{os.path.splitext(filename)[0]}.png\"\n",
    "                    output_image.save(os.path.join(output_folder, output_filename))\n",
    "    try:\n",
    "        # Limpia los archivos temporales\n",
    "        os.remove(\"temp.jpg\")\n",
    "    except Exception as e:\n",
    "        print(\"SI\")"
   ]
  },
  {
   "cell_type": "code",
   "execution_count": 11,
   "metadata": {},
   "outputs": [],
   "source": [
    "aplicar_metodos(input_folder = \"ImagesHR\")"
   ]
  }
 ],
 "metadata": {
  "kernelspec": {
   "display_name": "base",
   "language": "python",
   "name": "python3"
  },
  "language_info": {
   "codemirror_mode": {
    "name": "ipython",
    "version": 3
   },
   "file_extension": ".py",
   "mimetype": "text/x-python",
   "name": "python",
   "nbconvert_exporter": "python",
   "pygments_lexer": "ipython3",
   "version": "3.9.18"
  }
 },
 "nbformat": 4,
 "nbformat_minor": 2
}
